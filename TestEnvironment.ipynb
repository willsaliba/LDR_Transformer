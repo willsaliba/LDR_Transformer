{
 "cells": [
  {
   "cell_type": "code",
   "execution_count": 4,
   "id": "de3cdc60-6ca8-408c-8976-81abb8de5683",
   "metadata": {
    "editable": true,
    "slideshow": {
     "slide_type": ""
    },
    "tags": []
   },
   "outputs": [],
   "source": [
    "### CONGREGATING DATA ###\n",
    "import os\n",
    "all_files = \"\"\n",
    "directory = \"mini_LDR\"\n",
    "\n",
    "#for each file in directory, append its contents to all_files string\n",
    "for filename in os.listdir(directory):\n",
    "    if filename.endswith(\".ldr\"):\n",
    "        file_path = os.path.join(directory, filename)\n",
    "        with open(file_path, 'r') as file:\n",
    "            all_files += file.read()"
   ]
  },
  {
   "cell_type": "code",
   "execution_count": 8,
   "id": "38b2ee0e-f789-4f91-bda9-9a8da6fba1c3",
   "metadata": {},
   "outputs": [],
   "source": [
    "### PRE-TOKENISATION USING GPT4 ###\n",
    "import regex as regx\n",
    "gpt4_pattern = regx.compile(r\"\"\"'(?i:[sdmt]|ll|ve|re)|[^\\r\\n\\p{L}\\p{N}]?+\\p{L}+|\\p{N}{1,3}| ?[^\\s\\p{L}\\p{N}]++[\\r\\n]*|\\s*[\\r\\n]|\\s+(?!\\S)|\\s+\"\"\")\n",
    "#https://github.com/openai/tiktoken/blob/main/tiktoken_ext/openai_public.py\n",
    "\n",
    "all_sub_units = regx.findall(gpt4_pattern, all_files)"
   ]
  },
  {
   "cell_type": "code",
   "execution_count": null,
   "id": "64dbfb77-7f5c-4dc0-9f18-944ad2fab024",
   "metadata": {},
   "outputs": [],
   "source": [
    "### CONVERT EACH CHAR TO UTF-8 RAW BYTES AND INITALISE TOKEN SET ###\n",
    "\n",
    "#for each sub-unit \n",
    "    #convert to raw bytes\n",
    "    #convert those raw bytes to ints\n",
    "\n",
    "\n",
    "\n"
   ]
  }
 ],
 "metadata": {
  "kernelspec": {
   "display_name": "Python 3 (ipykernel)",
   "language": "python",
   "name": "python3"
  },
  "language_info": {
   "codemirror_mode": {
    "name": "ipython",
    "version": 3
   },
   "file_extension": ".py",
   "mimetype": "text/x-python",
   "name": "python",
   "nbconvert_exporter": "python",
   "pygments_lexer": "ipython3",
   "version": "3.12.2"
  }
 },
 "nbformat": 4,
 "nbformat_minor": 5
}
